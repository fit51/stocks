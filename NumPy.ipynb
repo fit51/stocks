{
 "cells": [
  {
   "cell_type": "code",
   "execution_count": 50,
   "metadata": {
    "collapsed": true
   },
   "outputs": [],
   "source": [
    "import pandas as pd\n",
    "import matplotlib as plt\n",
    "import numpy as np\n",
    "from time import time"
   ]
  },
  {
   "cell_type": "code",
   "execution_count": 95,
   "metadata": {
    "collapsed": false
   },
   "outputs": [
    {
     "name": "stdout",
     "output_type": "stream",
     "text": [
      "[[4 5 6]\n",
      " [7 8 9]]\n",
      "[[1 3]\n",
      " [4 6]\n",
      " [7 9]]\n",
      "[[0 0 0 6 2]\n",
      " [4 5 6 5 3]\n",
      " [7 8 9 4 3]]\n",
      "[[0 0 0 6 9]\n",
      " [4 5 6 5 9]\n",
      " [7 8 9 4 9]]\n"
     ]
    }
   ],
   "source": [
    "#Slicing\n",
    "ar1 = np.array([[1, 2, 3, 6, 2],\n",
    "                [4, 5, 6, 5, 3],\n",
    "                [7, 8, 9, 4, 3]])\n",
    "ar2 = np.array([(1, 2, 3), (4, 5, 6)])\n",
    "print(ar1[1:3, 0:3])\n",
    "# Slice m:n:t from n to m with step t\n",
    "print(ar1[:, 0:3:2])\n",
    "ar1[0, 0:3] = 0\n",
    "print(ar1)\n",
    "ar1[0:3, 4] = [9, 9, 9]\n",
    "print(ar1)"
   ]
  },
  {
   "cell_type": "code",
   "execution_count": 33,
   "metadata": {
    "collapsed": false
   },
   "outputs": [
    {
     "name": "stdout",
     "output_type": "stream",
     "text": [
      "Random values that were in memory allocated for array\n",
      " [[ 0.98977965  0.63961611  0.8260872   0.26381273  0.84091333]\n",
      " [ 0.98449564  0.85472487  0.89113165  0.83226082  0.45814615]]\n",
      "[[ 1.  1.]\n",
      " [ 1.  1.]\n",
      " [ 1.  1.]]\n",
      "Random Uniform DIstribution [0.0, 1.0]\n",
      " [[ 0.79977307  0.28479905  0.14130704  0.61308759  0.73799035]\n",
      " [ 0.42920735  0.39233746  0.86087379  0.07251709  0.03953668]]\n",
      "Sample numbers from a Gaussian (normal) distribution/ pass mean and s.d.\n",
      " [[ 69.46049705  58.46330848  60.82151552  54.51765988]\n",
      " [ 41.68163676  45.03072082  41.27090766  63.18183304]\n",
      " [ 57.39099269  47.46107838  59.34682165  67.3060839 ]]\n",
      "#Random integers betw 0 and 1-\n",
      " [7 1]\n"
     ]
    }
   ],
   "source": [
    "print('Random values that were in memory allocated for array\\n', \n",
    "      np.empty((2, 5)))\n",
    "# 1 (np.zeros)\n",
    "print(np.ones((3, 2)))\n",
    "print('Random Uniform DIstribution [0.0, 1.0]\\n', \n",
    "      np.random.rand(2, 5)) \n",
    "print('Sample numbers from a Gaussian (normal) distribution/ pass mean and s.d.\\n',\n",
    "      np.random.normal(50, 10, size=(3, 4)))\n",
    "print('#Random integers betw 0 and 1-\\n',\n",
    "      np.random.randint(0, 10, size=2))"
   ]
  },
  {
   "cell_type": "code",
   "execution_count": 30,
   "metadata": {
    "collapsed": false
   },
   "outputs": [
    {
     "name": "stdout",
     "output_type": "stream",
     "text": [
      "Array shape: (5, 4)\n",
      "Dimentions in array: 2\n",
      "Num of elements: 20\n",
      "Array Elems Type: float64\n"
     ]
    }
   ],
   "source": [
    "a = np.random.random((5,4))\n",
    "print('Array shape:', a.shape)\n",
    "print('Dimentions in array:', len(a.shape))\n",
    "print('Num of elements:',a.size)\n",
    "print('Array Elems Type:',a.dtype)"
   ]
  },
  {
   "cell_type": "code",
   "execution_count": 48,
   "metadata": {
    "collapsed": false
   },
   "outputs": [
    {
     "name": "stdout",
     "output_type": "stream",
     "text": [
      "[[9 5 5 6]\n",
      " [4 0 8 9]\n",
      " [5 2 9 4]\n",
      " [3 6 7 9]\n",
      " [9 7 3 6]]\n",
      "Column - AXIS 0 [30 20 32 34]\n",
      "Row - AXIS 1 [25 21 20 25 25]\n",
      "Minimim row, Max Col, Mean All [5 0 2 3 3] [9 7 9 9] 5.8\n",
      "Max index 5\n"
     ]
    }
   ],
   "source": [
    "np.random.seed(53)\n",
    "a = np.random.randint(0, 10, size=(5, 4))\n",
    "print(a)\n",
    "print('Column - AXIS 0', a.sum(axis=0))\n",
    "print('Row - AXIS 1', a.sum(axis=1))\n",
    "print('Minimim row, Max Col, Mean All', \n",
    "      a.min(axis=1), \n",
    "      a.max(axis=0), \n",
    "      a.mean())\n",
    "#index\n",
    "a = np.array([9, 6, 2, 3, 12, 14, 7, 10], dtype=np.int32)\n",
    "print('Max index', a.argmax())"
   ]
  },
  {
   "cell_type": "code",
   "execution_count": 71,
   "metadata": {
    "collapsed": false
   },
   "outputs": [],
   "source": [
    "#Measure Time\n",
    "def how_long(func, *args):\n",
    "    t1 = time()\n",
    "    result = func(*args)\n",
    "    t2 = time()\n",
    "    return result, t2 - t1"
   ]
  },
  {
   "cell_type": "code",
   "execution_count": 72,
   "metadata": {
    "collapsed": true
   },
   "outputs": [],
   "source": [
    "def manual_mean(arr):\n",
    "    sum = 0\n",
    "    for a in np.nditer(arr):\n",
    "        sum += a\n",
    "    return sum/arr.size\n",
    "\n",
    "def numpy_mean(arr):\n",
    "    return arr.mean()"
   ]
  },
  {
   "cell_type": "code",
   "execution_count": 77,
   "metadata": {
    "collapsed": false
   },
   "outputs": [
    {
     "name": "stdout",
     "output_type": "stream",
     "text": [
      "Manual time 0.500104195687 2.6394095420837402\n",
      "Numpy time 0.500104195687 0.012519359588623047\n",
      "Compare 210.0 times\n"
     ]
    }
   ],
   "source": [
    "ar = np.random.random((10000, 1000))\n",
    "res1, time1 = how_long(manual_mean, ar)\n",
    "res2, time2 = how_long(numpy_mean, ar)\n",
    "print('Manual time', res1, time1)\n",
    "print('Numpy time', res2, time2)\n",
    "print('Compare', time1//time2, 'times')"
   ]
  },
  {
   "cell_type": "code",
   "execution_count": 80,
   "metadata": {
    "collapsed": false
   },
   "outputs": [
    {
     "data": {
      "text/plain": [
       "array([[ 0.39987258,  0.23500644,  0.7612156 ,  0.63206702,  0.89569415],\n",
       "       [ 0.78777759,  0.96949662,  0.59464185,  0.91313928,  0.86154025],\n",
       "       [ 0.42847111,  0.08149235,  0.88391156,  0.58066525,  0.98788418]])"
      ]
     },
     "execution_count": 80,
     "metadata": {},
     "output_type": "execute_result"
    }
   ],
   "source": [
    "#Slicing\n",
    "ar = np.random.random((3, 5))\n",
    "ar"
   ]
  },
  {
   "cell_type": "markdown",
   "metadata": {},
   "source": [
    "# Indexing"
   ]
  },
  {
   "cell_type": "code",
   "execution_count": 100,
   "metadata": {
    "collapsed": false
   },
   "outputs": [
    {
     "data": {
      "text/plain": [
       "array([2, 2, 3, 4])"
      ]
     },
     "execution_count": 100,
     "metadata": {},
     "output_type": "execute_result"
    }
   ],
   "source": [
    "a = np.array([1, 2, 3, 4 , 5, 6])\n",
    "indecies = np.array([1, 1, 2, 3])\n",
    "a[indecies]"
   ]
  },
  {
   "cell_type": "code",
   "execution_count": 106,
   "metadata": {
    "collapsed": false
   },
   "outputs": [
    {
     "name": "stdout",
     "output_type": "stream",
     "text": [
      "Mean 3.58333333333\n",
      "All that are less [1 2 3 1 2 2]\n",
      "[[0 0 0 4 5 6]\n",
      " [8 0 4 5 0 0]]\n"
     ]
    }
   ],
   "source": [
    "a = np.array([(1, 2, 3, 4 , 5, 6),(8, 1, 4, 5 , 2, 2)])\n",
    "mean = a.mean()\n",
    "print('Mean', mean)\n",
    "print('All that are less', a[a<mean])\n",
    "a[a<mean] = 0\n",
    "print(a)"
   ]
  },
  {
   "cell_type": "code",
   "execution_count": 116,
   "metadata": {
    "collapsed": false
   },
   "outputs": [
    {
     "name": "stdout",
     "output_type": "stream",
     "text": [
      "[[  0.5   1.    1.5   2.    2.5   3. ]\n",
      " [  5.   10.   15.   20.   25.   30. ]]\n",
      "Sum [[ 11  22  33  44  55  66]\n",
      " [110 220 330 440 550 660]]\n",
      "Product [[   10    40    90   160   250   360]\n",
      " [ 1000  4000  9000 16000 25000 36000]]\n",
      "Devision [[ 0.1  0.1  0.1  0.1  0.1  0.1]\n",
      " [ 0.1  0.1  0.1  0.1  0.1  0.1]]\n"
     ]
    }
   ],
   "source": [
    "#Arithmetica\n",
    "a = np.array([(1, 2, 3, 4 , 5, 6),(10, 20, 30, 40, 50, 60)])\n",
    "print(a/2)\n",
    "b = np.array([(10, 20, 30, 40 , 50, 60),(100, 200, 300, 400, 500, 600)])\n",
    "print('Sum', a + b)\n",
    "print('Product', a*b)\n",
    "print('Devision', a/b)"
   ]
  },
  {
   "cell_type": "code",
   "execution_count": null,
   "metadata": {
    "collapsed": true
   },
   "outputs": [],
   "source": []
  }
 ],
 "metadata": {
  "kernelspec": {
   "display_name": "Python 3",
   "language": "python",
   "name": "python3"
  },
  "language_info": {
   "codemirror_mode": {
    "name": "ipython",
    "version": 3
   },
   "file_extension": ".py",
   "mimetype": "text/x-python",
   "name": "python",
   "nbconvert_exporter": "python",
   "pygments_lexer": "ipython3",
   "version": "3.6.0"
  }
 },
 "nbformat": 4,
 "nbformat_minor": 2
}
